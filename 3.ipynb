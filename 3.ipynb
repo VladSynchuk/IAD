{
 "cells": [
  {
   "cell_type": "code",
   "execution_count": 1,
   "id": "c278237e",
   "metadata": {},
   "outputs": [],
   "source": [
    "import pandas as pd\n",
    "import numpy as np\n",
    "import scipy\n",
    "import seaborn as sns\n",
    "import matplotlib.pyplot as plt\n",
    "import os\n",
    "\n",
    "from sklearn.preprocessing import LabelEncoder\n",
    "from sklearn.preprocessing import StandardScaler\n",
    "from sklearn.model_selection import train_test_split\n",
    "from sklearn.metrics import accuracy_score\n",
    "from sklearn.metrics import classification_report, confusion_matrix\n",
    "from sklearn.feature_extraction.text import TfidfVectorizer\n",
    "from skimage import io\n",
    "\n",
    "from nltk.corpus import stopwords\n",
    "import string"
   ]
  },
  {
   "cell_type": "code",
   "execution_count": 2,
   "id": "4d44be72",
   "metadata": {},
   "outputs": [],
   "source": [
    "import torch\n",
    "import torch.nn as nn\n",
    "import torch.optim as optim\n",
    "from torch.utils.data import Dataset, DataLoader\n",
    "import torch.nn.functional as F\n",
    "from torch.utils.data.sampler import SubsetRandomSampler\n",
    "import torchvision.transforms as transforms\n",
    "from torchvision.transforms import RandomHorizontalFlip, RandomRotation, RandomCrop, ColorJitter, GaussianBlur\n",
    "# import torchtext\n",
    "# from torchtext.data import Field, LabelField, TabularDataset, BucketIterator"
   ]
  },
  {
   "cell_type": "markdown",
   "id": "4c92ab51",
   "metadata": {},
   "source": [
    "# Завдання 1"
   ]
  },
  {
   "cell_type": "code",
   "execution_count": 3,
   "id": "d6bb9396",
   "metadata": {},
   "outputs": [],
   "source": [
    "filename = 'heart.csv'\n",
    "df = pd.read_csv(filename)"
   ]
  },
  {
   "cell_type": "code",
   "execution_count": 4,
   "id": "2305d28d",
   "metadata": {},
   "outputs": [
    {
     "data": {
      "text/html": [
       "<div>\n",
       "<style scoped>\n",
       "    .dataframe tbody tr th:only-of-type {\n",
       "        vertical-align: middle;\n",
       "    }\n",
       "\n",
       "    .dataframe tbody tr th {\n",
       "        vertical-align: top;\n",
       "    }\n",
       "\n",
       "    .dataframe thead th {\n",
       "        text-align: right;\n",
       "    }\n",
       "</style>\n",
       "<table border=\"1\" class=\"dataframe\">\n",
       "  <thead>\n",
       "    <tr style=\"text-align: right;\">\n",
       "      <th></th>\n",
       "      <th>Age</th>\n",
       "      <th>Sex</th>\n",
       "      <th>ChestPainType</th>\n",
       "      <th>RestingBP</th>\n",
       "      <th>Cholesterol</th>\n",
       "      <th>FastingBS</th>\n",
       "      <th>RestingECG</th>\n",
       "      <th>MaxHR</th>\n",
       "      <th>ExerciseAngina</th>\n",
       "      <th>Oldpeak</th>\n",
       "      <th>ST_Slope</th>\n",
       "      <th>HeartDisease</th>\n",
       "    </tr>\n",
       "  </thead>\n",
       "  <tbody>\n",
       "    <tr>\n",
       "      <th>0</th>\n",
       "      <td>40</td>\n",
       "      <td>M</td>\n",
       "      <td>ATA</td>\n",
       "      <td>140</td>\n",
       "      <td>289</td>\n",
       "      <td>0</td>\n",
       "      <td>Normal</td>\n",
       "      <td>172</td>\n",
       "      <td>N</td>\n",
       "      <td>0.0</td>\n",
       "      <td>Up</td>\n",
       "      <td>0</td>\n",
       "    </tr>\n",
       "    <tr>\n",
       "      <th>1</th>\n",
       "      <td>49</td>\n",
       "      <td>F</td>\n",
       "      <td>NAP</td>\n",
       "      <td>160</td>\n",
       "      <td>180</td>\n",
       "      <td>0</td>\n",
       "      <td>Normal</td>\n",
       "      <td>156</td>\n",
       "      <td>N</td>\n",
       "      <td>1.0</td>\n",
       "      <td>Flat</td>\n",
       "      <td>1</td>\n",
       "    </tr>\n",
       "    <tr>\n",
       "      <th>2</th>\n",
       "      <td>37</td>\n",
       "      <td>M</td>\n",
       "      <td>ATA</td>\n",
       "      <td>130</td>\n",
       "      <td>283</td>\n",
       "      <td>0</td>\n",
       "      <td>ST</td>\n",
       "      <td>98</td>\n",
       "      <td>N</td>\n",
       "      <td>0.0</td>\n",
       "      <td>Up</td>\n",
       "      <td>0</td>\n",
       "    </tr>\n",
       "    <tr>\n",
       "      <th>3</th>\n",
       "      <td>48</td>\n",
       "      <td>F</td>\n",
       "      <td>ASY</td>\n",
       "      <td>138</td>\n",
       "      <td>214</td>\n",
       "      <td>0</td>\n",
       "      <td>Normal</td>\n",
       "      <td>108</td>\n",
       "      <td>Y</td>\n",
       "      <td>1.5</td>\n",
       "      <td>Flat</td>\n",
       "      <td>1</td>\n",
       "    </tr>\n",
       "    <tr>\n",
       "      <th>4</th>\n",
       "      <td>54</td>\n",
       "      <td>M</td>\n",
       "      <td>NAP</td>\n",
       "      <td>150</td>\n",
       "      <td>195</td>\n",
       "      <td>0</td>\n",
       "      <td>Normal</td>\n",
       "      <td>122</td>\n",
       "      <td>N</td>\n",
       "      <td>0.0</td>\n",
       "      <td>Up</td>\n",
       "      <td>0</td>\n",
       "    </tr>\n",
       "  </tbody>\n",
       "</table>\n",
       "</div>"
      ],
      "text/plain": [
       "   Age Sex ChestPainType  RestingBP  Cholesterol  FastingBS RestingECG  MaxHR  \\\n",
       "0   40   M           ATA        140          289          0     Normal    172   \n",
       "1   49   F           NAP        160          180          0     Normal    156   \n",
       "2   37   M           ATA        130          283          0         ST     98   \n",
       "3   48   F           ASY        138          214          0     Normal    108   \n",
       "4   54   M           NAP        150          195          0     Normal    122   \n",
       "\n",
       "  ExerciseAngina  Oldpeak ST_Slope  HeartDisease  \n",
       "0              N      0.0       Up             0  \n",
       "1              N      1.0     Flat             1  \n",
       "2              N      0.0       Up             0  \n",
       "3              Y      1.5     Flat             1  \n",
       "4              N      0.0       Up             0  "
      ]
     },
     "execution_count": 4,
     "metadata": {},
     "output_type": "execute_result"
    }
   ],
   "source": [
    "df.head()"
   ]
  },
  {
   "cell_type": "code",
   "execution_count": 5,
   "id": "73f37d5f",
   "metadata": {},
   "outputs": [],
   "source": [
    "# приведемо всі рядкові категоріальні змінні до чисельного виду\n",
    "# для того щоб можна було включити їх в моделі класифікації\n",
    "label_encoder = LabelEncoder()\n",
    "df['Sex'] = label_encoder.fit_transform(df['Sex'])\n",
    "df['ChestPainType'] = label_encoder.fit_transform(df['ChestPainType'])\n",
    "df['RestingECG'] = label_encoder.fit_transform(df['RestingECG'])\n",
    "df['ExerciseAngina'] = label_encoder.fit_transform(df['ExerciseAngina'])\n",
    "df['ST_Slope'] = label_encoder.fit_transform(df['ST_Slope'])"
   ]
  },
  {
   "cell_type": "code",
   "execution_count": 6,
   "id": "9331b035",
   "metadata": {},
   "outputs": [
    {
     "data": {
      "text/html": [
       "<div>\n",
       "<style scoped>\n",
       "    .dataframe tbody tr th:only-of-type {\n",
       "        vertical-align: middle;\n",
       "    }\n",
       "\n",
       "    .dataframe tbody tr th {\n",
       "        vertical-align: top;\n",
       "    }\n",
       "\n",
       "    .dataframe thead th {\n",
       "        text-align: right;\n",
       "    }\n",
       "</style>\n",
       "<table border=\"1\" class=\"dataframe\">\n",
       "  <thead>\n",
       "    <tr style=\"text-align: right;\">\n",
       "      <th></th>\n",
       "      <th>Age</th>\n",
       "      <th>Sex</th>\n",
       "      <th>ChestPainType</th>\n",
       "      <th>RestingBP</th>\n",
       "      <th>Cholesterol</th>\n",
       "      <th>FastingBS</th>\n",
       "      <th>RestingECG</th>\n",
       "      <th>MaxHR</th>\n",
       "      <th>ExerciseAngina</th>\n",
       "      <th>Oldpeak</th>\n",
       "      <th>ST_Slope</th>\n",
       "      <th>HeartDisease</th>\n",
       "    </tr>\n",
       "  </thead>\n",
       "  <tbody>\n",
       "    <tr>\n",
       "      <th>0</th>\n",
       "      <td>40</td>\n",
       "      <td>1</td>\n",
       "      <td>1</td>\n",
       "      <td>140</td>\n",
       "      <td>289</td>\n",
       "      <td>0</td>\n",
       "      <td>1</td>\n",
       "      <td>172</td>\n",
       "      <td>0</td>\n",
       "      <td>0.0</td>\n",
       "      <td>2</td>\n",
       "      <td>0</td>\n",
       "    </tr>\n",
       "    <tr>\n",
       "      <th>1</th>\n",
       "      <td>49</td>\n",
       "      <td>0</td>\n",
       "      <td>2</td>\n",
       "      <td>160</td>\n",
       "      <td>180</td>\n",
       "      <td>0</td>\n",
       "      <td>1</td>\n",
       "      <td>156</td>\n",
       "      <td>0</td>\n",
       "      <td>1.0</td>\n",
       "      <td>1</td>\n",
       "      <td>1</td>\n",
       "    </tr>\n",
       "    <tr>\n",
       "      <th>2</th>\n",
       "      <td>37</td>\n",
       "      <td>1</td>\n",
       "      <td>1</td>\n",
       "      <td>130</td>\n",
       "      <td>283</td>\n",
       "      <td>0</td>\n",
       "      <td>2</td>\n",
       "      <td>98</td>\n",
       "      <td>0</td>\n",
       "      <td>0.0</td>\n",
       "      <td>2</td>\n",
       "      <td>0</td>\n",
       "    </tr>\n",
       "    <tr>\n",
       "      <th>3</th>\n",
       "      <td>48</td>\n",
       "      <td>0</td>\n",
       "      <td>0</td>\n",
       "      <td>138</td>\n",
       "      <td>214</td>\n",
       "      <td>0</td>\n",
       "      <td>1</td>\n",
       "      <td>108</td>\n",
       "      <td>1</td>\n",
       "      <td>1.5</td>\n",
       "      <td>1</td>\n",
       "      <td>1</td>\n",
       "    </tr>\n",
       "    <tr>\n",
       "      <th>4</th>\n",
       "      <td>54</td>\n",
       "      <td>1</td>\n",
       "      <td>2</td>\n",
       "      <td>150</td>\n",
       "      <td>195</td>\n",
       "      <td>0</td>\n",
       "      <td>1</td>\n",
       "      <td>122</td>\n",
       "      <td>0</td>\n",
       "      <td>0.0</td>\n",
       "      <td>2</td>\n",
       "      <td>0</td>\n",
       "    </tr>\n",
       "  </tbody>\n",
       "</table>\n",
       "</div>"
      ],
      "text/plain": [
       "   Age  Sex  ChestPainType  RestingBP  Cholesterol  FastingBS  RestingECG  \\\n",
       "0   40    1              1        140          289          0           1   \n",
       "1   49    0              2        160          180          0           1   \n",
       "2   37    1              1        130          283          0           2   \n",
       "3   48    0              0        138          214          0           1   \n",
       "4   54    1              2        150          195          0           1   \n",
       "\n",
       "   MaxHR  ExerciseAngina  Oldpeak  ST_Slope  HeartDisease  \n",
       "0    172               0      0.0         2             0  \n",
       "1    156               0      1.0         1             1  \n",
       "2     98               0      0.0         2             0  \n",
       "3    108               1      1.5         1             1  \n",
       "4    122               0      0.0         2             0  "
      ]
     },
     "execution_count": 6,
     "metadata": {},
     "output_type": "execute_result"
    }
   ],
   "source": [
    "df.head()"
   ]
  },
  {
   "cell_type": "code",
   "execution_count": 7,
   "id": "f16a18cd",
   "metadata": {},
   "outputs": [
    {
     "data": {
      "text/html": [
       "<div>\n",
       "<style scoped>\n",
       "    .dataframe tbody tr th:only-of-type {\n",
       "        vertical-align: middle;\n",
       "    }\n",
       "\n",
       "    .dataframe tbody tr th {\n",
       "        vertical-align: top;\n",
       "    }\n",
       "\n",
       "    .dataframe thead th {\n",
       "        text-align: right;\n",
       "    }\n",
       "</style>\n",
       "<table border=\"1\" class=\"dataframe\">\n",
       "  <thead>\n",
       "    <tr style=\"text-align: right;\">\n",
       "      <th></th>\n",
       "      <th>Age</th>\n",
       "      <th>Sex</th>\n",
       "      <th>ChestPainType</th>\n",
       "      <th>RestingBP</th>\n",
       "      <th>Cholesterol</th>\n",
       "      <th>FastingBS</th>\n",
       "      <th>RestingECG</th>\n",
       "      <th>MaxHR</th>\n",
       "      <th>ExerciseAngina</th>\n",
       "      <th>Oldpeak</th>\n",
       "      <th>ST_Slope</th>\n",
       "      <th>HeartDisease</th>\n",
       "    </tr>\n",
       "  </thead>\n",
       "  <tbody>\n",
       "    <tr>\n",
       "      <th>0</th>\n",
       "      <td>-1.433140</td>\n",
       "      <td>1</td>\n",
       "      <td>1</td>\n",
       "      <td>0.410909</td>\n",
       "      <td>0.825070</td>\n",
       "      <td>-0.551341</td>\n",
       "      <td>1</td>\n",
       "      <td>1.382928</td>\n",
       "      <td>0</td>\n",
       "      <td>-0.832432</td>\n",
       "      <td>2</td>\n",
       "      <td>0</td>\n",
       "    </tr>\n",
       "    <tr>\n",
       "      <th>1</th>\n",
       "      <td>-0.478484</td>\n",
       "      <td>0</td>\n",
       "      <td>2</td>\n",
       "      <td>1.491752</td>\n",
       "      <td>-0.171961</td>\n",
       "      <td>-0.551341</td>\n",
       "      <td>1</td>\n",
       "      <td>0.754157</td>\n",
       "      <td>0</td>\n",
       "      <td>0.105664</td>\n",
       "      <td>1</td>\n",
       "      <td>1</td>\n",
       "    </tr>\n",
       "    <tr>\n",
       "      <th>2</th>\n",
       "      <td>-1.751359</td>\n",
       "      <td>1</td>\n",
       "      <td>1</td>\n",
       "      <td>-0.129513</td>\n",
       "      <td>0.770188</td>\n",
       "      <td>-0.551341</td>\n",
       "      <td>2</td>\n",
       "      <td>-1.525138</td>\n",
       "      <td>0</td>\n",
       "      <td>-0.832432</td>\n",
       "      <td>2</td>\n",
       "      <td>0</td>\n",
       "    </tr>\n",
       "    <tr>\n",
       "      <th>3</th>\n",
       "      <td>-0.584556</td>\n",
       "      <td>0</td>\n",
       "      <td>0</td>\n",
       "      <td>0.302825</td>\n",
       "      <td>0.139040</td>\n",
       "      <td>-0.551341</td>\n",
       "      <td>1</td>\n",
       "      <td>-1.132156</td>\n",
       "      <td>1</td>\n",
       "      <td>0.574711</td>\n",
       "      <td>1</td>\n",
       "      <td>1</td>\n",
       "    </tr>\n",
       "    <tr>\n",
       "      <th>4</th>\n",
       "      <td>0.051881</td>\n",
       "      <td>1</td>\n",
       "      <td>2</td>\n",
       "      <td>0.951331</td>\n",
       "      <td>-0.034755</td>\n",
       "      <td>-0.551341</td>\n",
       "      <td>1</td>\n",
       "      <td>-0.581981</td>\n",
       "      <td>0</td>\n",
       "      <td>-0.832432</td>\n",
       "      <td>2</td>\n",
       "      <td>0</td>\n",
       "    </tr>\n",
       "    <tr>\n",
       "      <th>...</th>\n",
       "      <td>...</td>\n",
       "      <td>...</td>\n",
       "      <td>...</td>\n",
       "      <td>...</td>\n",
       "      <td>...</td>\n",
       "      <td>...</td>\n",
       "      <td>...</td>\n",
       "      <td>...</td>\n",
       "      <td>...</td>\n",
       "      <td>...</td>\n",
       "      <td>...</td>\n",
       "      <td>...</td>\n",
       "    </tr>\n",
       "    <tr>\n",
       "      <th>913</th>\n",
       "      <td>-0.902775</td>\n",
       "      <td>1</td>\n",
       "      <td>3</td>\n",
       "      <td>-1.210356</td>\n",
       "      <td>0.596393</td>\n",
       "      <td>-0.551341</td>\n",
       "      <td>1</td>\n",
       "      <td>-0.188999</td>\n",
       "      <td>0</td>\n",
       "      <td>0.293283</td>\n",
       "      <td>1</td>\n",
       "      <td>1</td>\n",
       "    </tr>\n",
       "    <tr>\n",
       "      <th>914</th>\n",
       "      <td>1.536902</td>\n",
       "      <td>1</td>\n",
       "      <td>0</td>\n",
       "      <td>0.627078</td>\n",
       "      <td>-0.053049</td>\n",
       "      <td>1.813758</td>\n",
       "      <td>1</td>\n",
       "      <td>0.164684</td>\n",
       "      <td>0</td>\n",
       "      <td>2.357094</td>\n",
       "      <td>1</td>\n",
       "      <td>1</td>\n",
       "    </tr>\n",
       "    <tr>\n",
       "      <th>915</th>\n",
       "      <td>0.370100</td>\n",
       "      <td>1</td>\n",
       "      <td>0</td>\n",
       "      <td>-0.129513</td>\n",
       "      <td>-0.620168</td>\n",
       "      <td>-0.551341</td>\n",
       "      <td>1</td>\n",
       "      <td>-0.857069</td>\n",
       "      <td>1</td>\n",
       "      <td>0.293283</td>\n",
       "      <td>1</td>\n",
       "      <td>1</td>\n",
       "    </tr>\n",
       "    <tr>\n",
       "      <th>916</th>\n",
       "      <td>0.370100</td>\n",
       "      <td>0</td>\n",
       "      <td>1</td>\n",
       "      <td>-0.129513</td>\n",
       "      <td>0.340275</td>\n",
       "      <td>-0.551341</td>\n",
       "      <td>0</td>\n",
       "      <td>1.461525</td>\n",
       "      <td>0</td>\n",
       "      <td>-0.832432</td>\n",
       "      <td>1</td>\n",
       "      <td>1</td>\n",
       "    </tr>\n",
       "    <tr>\n",
       "      <th>917</th>\n",
       "      <td>-1.645286</td>\n",
       "      <td>1</td>\n",
       "      <td>2</td>\n",
       "      <td>0.302825</td>\n",
       "      <td>-0.217696</td>\n",
       "      <td>-0.551341</td>\n",
       "      <td>1</td>\n",
       "      <td>1.422226</td>\n",
       "      <td>0</td>\n",
       "      <td>-0.832432</td>\n",
       "      <td>2</td>\n",
       "      <td>0</td>\n",
       "    </tr>\n",
       "  </tbody>\n",
       "</table>\n",
       "<p>918 rows × 12 columns</p>\n",
       "</div>"
      ],
      "text/plain": [
       "          Age  Sex  ChestPainType  RestingBP  Cholesterol  FastingBS  \\\n",
       "0   -1.433140    1              1   0.410909     0.825070  -0.551341   \n",
       "1   -0.478484    0              2   1.491752    -0.171961  -0.551341   \n",
       "2   -1.751359    1              1  -0.129513     0.770188  -0.551341   \n",
       "3   -0.584556    0              0   0.302825     0.139040  -0.551341   \n",
       "4    0.051881    1              2   0.951331    -0.034755  -0.551341   \n",
       "..        ...  ...            ...        ...          ...        ...   \n",
       "913 -0.902775    1              3  -1.210356     0.596393  -0.551341   \n",
       "914  1.536902    1              0   0.627078    -0.053049   1.813758   \n",
       "915  0.370100    1              0  -0.129513    -0.620168  -0.551341   \n",
       "916  0.370100    0              1  -0.129513     0.340275  -0.551341   \n",
       "917 -1.645286    1              2   0.302825    -0.217696  -0.551341   \n",
       "\n",
       "     RestingECG     MaxHR  ExerciseAngina   Oldpeak  ST_Slope  HeartDisease  \n",
       "0             1  1.382928               0 -0.832432         2             0  \n",
       "1             1  0.754157               0  0.105664         1             1  \n",
       "2             2 -1.525138               0 -0.832432         2             0  \n",
       "3             1 -1.132156               1  0.574711         1             1  \n",
       "4             1 -0.581981               0 -0.832432         2             0  \n",
       "..          ...       ...             ...       ...       ...           ...  \n",
       "913           1 -0.188999               0  0.293283         1             1  \n",
       "914           1  0.164684               0  2.357094         1             1  \n",
       "915           1 -0.857069               1  0.293283         1             1  \n",
       "916           0  1.461525               0 -0.832432         1             1  \n",
       "917           1  1.422226               0 -0.832432         2             0  \n",
       "\n",
       "[918 rows x 12 columns]"
      ]
     },
     "execution_count": 7,
     "metadata": {},
     "output_type": "execute_result"
    }
   ],
   "source": [
    "### Нормалізація даних\n",
    "\n",
    "ignore = ['HeartDisease', 'Sex', 'ExerciseAngina', 'RestingECG', 'ChestPainType', 'ST_Slope']\n",
    "\n",
    "# Копіюємо вихідний датасет\n",
    "normalized_df = df.copy()\n",
    "\n",
    "# Вибираємо ознаки, які потрібно нормалізувати (усі, окрім ігнорованих ознак)\n",
    "features_to_normalize = [col for col in normalized_df.columns if col not in ignore]\n",
    "\n",
    "# Ініціалізуємо StandardScaler\n",
    "scaler = StandardScaler()\n",
    "\n",
    "# Нормалізуємо вибрані ознаки в окремому датасеті\n",
    "normalized_df[features_to_normalize] = scaler.fit_transform(normalized_df[features_to_normalize])\n",
    "\n",
    "# Виводимо нормалізований датасет\n",
    "normalized_df"
   ]
  },
  {
   "cell_type": "code",
   "execution_count": 8,
   "id": "19d02836",
   "metadata": {},
   "outputs": [
    {
     "data": {
      "text/plain": [
       "(          Age  Sex  ChestPainType  RestingBP  Cholesterol  FastingBS  \\\n",
       " 795 -1.220994    1              2  -0.669935     0.376864   1.813758   \n",
       " 25  -1.857431    1              2  -0.129513     0.093304  -0.551341   \n",
       " 84   0.264027    1              0   0.951331     0.129892   1.813758   \n",
       " 10  -1.751359    0              2  -0.129513     0.111598  -0.551341   \n",
       " 344 -0.266338    1              0  -0.669935    -1.818435   1.813758   \n",
       " ..        ...  ...            ...        ...          ...        ...   \n",
       " 106 -0.584556    0              0  -0.669935     0.504923  -0.551341   \n",
       " 270 -0.902775    1              0  -0.669935     0.239657  -0.551341   \n",
       " 860  0.688318    1              0  -0.129513     0.495776  -0.551341   \n",
       " 435  0.688318    1              0   1.059415    -1.818435  -0.551341   \n",
       " 102 -1.433140    0              0   0.951331     1.767219  -0.551341   \n",
       " \n",
       "      RestingECG     MaxHR  ExerciseAngina   Oldpeak  ST_Slope  \n",
       " 795           1  2.247488               0 -0.081956         0  \n",
       " 25            1  1.618717               0 -0.832432         2  \n",
       " 84            1 -0.464087               1  0.105664         1  \n",
       " 10            1  0.203982               0 -0.832432         2  \n",
       " 344           1 -1.289349               0 -0.832432         1  \n",
       " ..          ...       ...             ...       ...       ...  \n",
       " 106           2 -1.053560               0 -0.832432         2  \n",
       " 270           1  0.125386               0 -0.832432         2  \n",
       " 860           1  0.282579               1  0.480902         2  \n",
       " 435           2 -0.739174               1 -0.832432         2  \n",
       " 102           1 -0.267596               0  1.043759         1  \n",
       " \n",
       " [734 rows x 11 columns],\n",
       " 795    0\n",
       " 25     0\n",
       " 84     1\n",
       " 10     0\n",
       " 344    1\n",
       "       ..\n",
       " 106    0\n",
       " 270    0\n",
       " 860    1\n",
       " 435    0\n",
       " 102    1\n",
       " Name: HeartDisease, Length: 734, dtype: int64)"
      ]
     },
     "execution_count": 8,
     "metadata": {},
     "output_type": "execute_result"
    }
   ],
   "source": [
    "X = normalized_df.drop('HeartDisease', axis=1)\n",
    "y = normalized_df['HeartDisease']\n",
    "X_train, X_test, y_train, y_test = train_test_split(X, y, test_size=0.2, random_state=42)\n",
    "\n",
    "X_train, y_train"
   ]
  },
  {
   "cell_type": "code",
   "execution_count": 9,
   "id": "abfa6d0a",
   "metadata": {},
   "outputs": [],
   "source": [
    "class HeartDiseaseDataset(Dataset):\n",
    "    def __init__(self, X, y):\n",
    "        self.X = torch.tensor(X.values, dtype=torch.float32)\n",
    "        self.y = torch.tensor(y.values, dtype=torch.float32)\n",
    "\n",
    "    def __len__(self):\n",
    "        return len(self.X)\n",
    "\n",
    "    def __getitem__(self, idx):\n",
    "        return self.X[idx], self.y[idx]\n",
    "\n",
    "train_dataset = HeartDiseaseDataset(X_train, y_train)\n",
    "test_dataset = HeartDiseaseDataset(X_test, y_test)"
   ]
  },
  {
   "cell_type": "code",
   "execution_count": 10,
   "id": "7ccb94f5",
   "metadata": {},
   "outputs": [],
   "source": [
    "def create_heart_disease_model(input_size, h1, h2, output_size):\n",
    "    model = nn.Sequential(\n",
    "        nn.Linear(input_size, h1),\n",
    "        nn.ReLU(),\n",
    "        nn.Linear(h1, h2),\n",
    "        nn.ReLU(),\n",
    "        nn.Linear(h2, output_size),\n",
    "    )\n",
    "    return model"
   ]
  },
  {
   "cell_type": "code",
   "execution_count": 11,
   "id": "e55da4a8",
   "metadata": {},
   "outputs": [],
   "source": [
    "def model_train(model, lr, num_epochs):\n",
    "    criterion = nn.BCEWithLogitsLoss()\n",
    "    optimizer = optim.Adam(model.parameters(), lr=lr)\n",
    "    \n",
    "    for epoch in range(num_epochs):\n",
    "        model.train()\n",
    "        outputs = model(train_dataset.X)\n",
    "        optimizer.zero_grad()\n",
    "        loss = criterion(outputs, train_dataset.y.view(-1, 1))\n",
    "        loss.backward()\n",
    "        optimizer.step()\n",
    "        \n",
    "    return model"
   ]
  },
  {
   "cell_type": "code",
   "execution_count": 12,
   "id": "318139f1",
   "metadata": {},
   "outputs": [],
   "source": [
    "def torch_gridsearch():\n",
    "    return"
   ]
  },
  {
   "cell_type": "code",
   "execution_count": 13,
   "id": "4d547f19",
   "metadata": {},
   "outputs": [
    {
     "data": {
      "text/plain": [
       "Sequential(\n",
       "  (0): Linear(in_features=11, out_features=32, bias=True)\n",
       "  (1): ReLU()\n",
       "  (2): Linear(in_features=32, out_features=16, bias=True)\n",
       "  (3): ReLU()\n",
       "  (4): Linear(in_features=16, out_features=1, bias=True)\n",
       ")"
      ]
     },
     "execution_count": 13,
     "metadata": {},
     "output_type": "execute_result"
    }
   ],
   "source": [
    "input_size = X_train.shape[1]\n",
    "hidden_size = 64  # You can adjust this.\n",
    "output_size = 1  # Since it's binary classification.\n",
    "layer_dims = [input_size, 32, 16, output_size]\n",
    "\n",
    "model = create_heart_disease_model(*layer_dims)\n",
    "\n",
    "model_train(model, 0.01, 25)"
   ]
  },
  {
   "cell_type": "code",
   "execution_count": 14,
   "id": "2e857432",
   "metadata": {},
   "outputs": [
    {
     "name": "stdout",
     "output_type": "stream",
     "text": [
      "Test Accuracy: 0.8206521739130435\n"
     ]
    }
   ],
   "source": [
    "model.eval()\n",
    "with torch.no_grad():\n",
    "    test_outputs = model(test_dataset.X)\n",
    "    predicted = (test_outputs >= 0).float()\n",
    "    accuracy = accuracy_score(test_dataset.y, predicted)\n",
    "    print(f'Test Accuracy: {accuracy}')"
   ]
  },
  {
   "cell_type": "code",
   "execution_count": 15,
   "id": "2bb77fd7",
   "metadata": {},
   "outputs": [
    {
     "name": "stdout",
     "output_type": "stream",
     "text": [
      "              precision    recall  f1-score   support\n",
      "\n",
      "         0.0       0.74      0.87      0.80        77\n",
      "         1.0       0.89      0.79      0.84       107\n",
      "\n",
      "    accuracy                           0.82       184\n",
      "   macro avg       0.82      0.83      0.82       184\n",
      "weighted avg       0.83      0.82      0.82       184\n",
      "\n"
     ]
    }
   ],
   "source": [
    "print(classification_report(test_dataset.y, predicted))"
   ]
  },
  {
   "cell_type": "markdown",
   "id": "e214cb4b",
   "metadata": {},
   "source": [
    "# Завдання 2 (класифікація зображень)"
   ]
  },
  {
   "cell_type": "code",
   "execution_count": 16,
   "id": "069b3409",
   "metadata": {},
   "outputs": [
    {
     "data": {
      "text/plain": [
       "(809, 3)"
      ]
     },
     "execution_count": 16,
     "metadata": {},
     "output_type": "execute_result"
    }
   ],
   "source": [
    "# /pokemons\n",
    "pokemons = pd.read_csv(\"pokemons/pokemon.csv\")\n",
    "pokemons.shape"
   ]
  },
  {
   "cell_type": "code",
   "execution_count": 17,
   "id": "70a10ab7",
   "metadata": {},
   "outputs": [
    {
     "data": {
      "text/html": [
       "<div>\n",
       "<style scoped>\n",
       "    .dataframe tbody tr th:only-of-type {\n",
       "        vertical-align: middle;\n",
       "    }\n",
       "\n",
       "    .dataframe tbody tr th {\n",
       "        vertical-align: top;\n",
       "    }\n",
       "\n",
       "    .dataframe thead th {\n",
       "        text-align: right;\n",
       "    }\n",
       "</style>\n",
       "<table border=\"1\" class=\"dataframe\">\n",
       "  <thead>\n",
       "    <tr style=\"text-align: right;\">\n",
       "      <th></th>\n",
       "      <th>Name</th>\n",
       "      <th>Type1</th>\n",
       "      <th>Type2</th>\n",
       "    </tr>\n",
       "  </thead>\n",
       "  <tbody>\n",
       "    <tr>\n",
       "      <th>0</th>\n",
       "      <td>bulbasaur</td>\n",
       "      <td>Grass</td>\n",
       "      <td>Poison</td>\n",
       "    </tr>\n",
       "    <tr>\n",
       "      <th>1</th>\n",
       "      <td>ivysaur</td>\n",
       "      <td>Grass</td>\n",
       "      <td>Poison</td>\n",
       "    </tr>\n",
       "    <tr>\n",
       "      <th>2</th>\n",
       "      <td>venusaur</td>\n",
       "      <td>Grass</td>\n",
       "      <td>Poison</td>\n",
       "    </tr>\n",
       "    <tr>\n",
       "      <th>3</th>\n",
       "      <td>charmander</td>\n",
       "      <td>Fire</td>\n",
       "      <td>NaN</td>\n",
       "    </tr>\n",
       "    <tr>\n",
       "      <th>4</th>\n",
       "      <td>charmeleon</td>\n",
       "      <td>Fire</td>\n",
       "      <td>NaN</td>\n",
       "    </tr>\n",
       "  </tbody>\n",
       "</table>\n",
       "</div>"
      ],
      "text/plain": [
       "         Name  Type1   Type2\n",
       "0   bulbasaur  Grass  Poison\n",
       "1     ivysaur  Grass  Poison\n",
       "2    venusaur  Grass  Poison\n",
       "3  charmander   Fire     NaN\n",
       "4  charmeleon   Fire     NaN"
      ]
     },
     "execution_count": 17,
     "metadata": {},
     "output_type": "execute_result"
    }
   ],
   "source": [
    "pokemons.head()"
   ]
  },
  {
   "cell_type": "code",
   "execution_count": 18,
   "id": "5c72a4c9",
   "metadata": {},
   "outputs": [
    {
     "data": {
      "text/html": [
       "<div>\n",
       "<style scoped>\n",
       "    .dataframe tbody tr th:only-of-type {\n",
       "        vertical-align: middle;\n",
       "    }\n",
       "\n",
       "    .dataframe tbody tr th {\n",
       "        vertical-align: top;\n",
       "    }\n",
       "\n",
       "    .dataframe thead th {\n",
       "        text-align: right;\n",
       "    }\n",
       "</style>\n",
       "<table border=\"1\" class=\"dataframe\">\n",
       "  <thead>\n",
       "    <tr style=\"text-align: right;\">\n",
       "      <th></th>\n",
       "      <th>Name</th>\n",
       "      <th>Type1</th>\n",
       "    </tr>\n",
       "  </thead>\n",
       "  <tbody>\n",
       "    <tr>\n",
       "      <th>3</th>\n",
       "      <td>charmander</td>\n",
       "      <td>Fire</td>\n",
       "    </tr>\n",
       "    <tr>\n",
       "      <th>4</th>\n",
       "      <td>charmeleon</td>\n",
       "      <td>Fire</td>\n",
       "    </tr>\n",
       "    <tr>\n",
       "      <th>5</th>\n",
       "      <td>charizard</td>\n",
       "      <td>Fire</td>\n",
       "    </tr>\n",
       "    <tr>\n",
       "      <th>24</th>\n",
       "      <td>pikachu</td>\n",
       "      <td>Electric</td>\n",
       "    </tr>\n",
       "    <tr>\n",
       "      <th>25</th>\n",
       "      <td>raichu</td>\n",
       "      <td>Electric</td>\n",
       "    </tr>\n",
       "  </tbody>\n",
       "</table>\n",
       "</div>"
      ],
      "text/plain": [
       "          Name     Type1\n",
       "3   charmander      Fire\n",
       "4   charmeleon      Fire\n",
       "5    charizard      Fire\n",
       "24     pikachu  Electric\n",
       "25      raichu  Electric"
      ]
     },
     "execution_count": 18,
     "metadata": {},
     "output_type": "execute_result"
    }
   ],
   "source": [
    "types = ['Fire', 'Electric', 'Dark']\n",
    "pokemons = pokemons[pokemons['Type1'].isin(types)][[\"Name\", \"Type1\"]]\n",
    "\n",
    "pokemons.head()"
   ]
  },
  {
   "cell_type": "code",
   "execution_count": 19,
   "id": "486738f1",
   "metadata": {},
   "outputs": [
    {
     "data": {
      "text/plain": [
       "(122, 2)"
      ]
     },
     "execution_count": 19,
     "metadata": {},
     "output_type": "execute_result"
    }
   ],
   "source": [
    "pokemons.shape"
   ]
  },
  {
   "cell_type": "code",
   "execution_count": 20,
   "id": "cfecdad3",
   "metadata": {},
   "outputs": [
    {
     "data": {
      "text/plain": [
       "({'Fire': 0, 'Electric': 1, 'Dark': 2}, dict)"
      ]
     },
     "execution_count": 20,
     "metadata": {},
     "output_type": "execute_result"
    }
   ],
   "source": [
    "poke_types = {\n",
    "    t:i for i, t in enumerate(pokemons['Type1'].unique())\n",
    "}\n",
    "poke_types, type(poke_types)"
   ]
  },
  {
   "cell_type": "code",
   "execution_count": 21,
   "id": "e89d5ff6",
   "metadata": {},
   "outputs": [],
   "source": [
    "class PokemonDataset(Dataset):\n",
    "    def __init__(self, image_dir, poke_names):\n",
    "        \"\"\"Initialize the attributes of the object of the class.\"\"\"\n",
    "        self.poke_names = poke_names\n",
    "        self.image_dir = image_dir\n",
    "        self.image_path_list = sorted(self._find_files(image_dir))\n",
    "        \n",
    "    def __len__(self):\n",
    "        \"\"\"Return the size of the dataset.\"\"\"\n",
    "        return len(self.image_path_list)\n",
    "\n",
    "    def __getitem__(self, index):\n",
    "        image_path = self.image_path_list[index]\n",
    "        name = image_path.split(\"/\")[-1][:-4]\n",
    "        poke_type = pokemons[pokemons['Name'] == name]['Type1'].values[0]\n",
    "        \n",
    "        x = io.imread(image_path)\n",
    "        x = torch.tensor(x).type(torch.FloatTensor)\n",
    "        x = x[:, :, :3]\n",
    "        x_min, x_max = torch.min(x), torch.max(x)\n",
    "        normalized_x = (x - x_min) / (x_max - x_min)\n",
    "        x = torch.reshape(normalized_x, (3, 120, 120))\n",
    "        \n",
    "        return x, poke_types[poke_type]\n",
    "    \n",
    "    def _find_files(self, directory):\n",
    "        \"\"\"Find files in the directory that contain Pokémon names (PNG or JPG).\"\"\"\n",
    "        image_path_list = []\n",
    "\n",
    "        allowed_extensions = {'.png', '.jpg'}\n",
    "\n",
    "        for root, dirs, files in os.walk(directory):\n",
    "            for file in files:\n",
    "                file_name, file_extension = os.path.splitext(file)\n",
    "                if file_extension.lower() in allowed_extensions:\n",
    "                    # Get the Pokémon name by removing the file extension\n",
    "                    name = file_name\n",
    "                    # Check if the name is in the list of Pokémon names\n",
    "                    if name in self.poke_names:\n",
    "                        image_path_list.append(self.image_dir + '/' + file_name + file_extension)\n",
    "\n",
    "        return image_path_list"
   ]
  },
  {
   "cell_type": "code",
   "execution_count": 22,
   "id": "67abdf04",
   "metadata": {},
   "outputs": [],
   "source": [
    "image_dir = \"pokemons/images/images\"\n",
    "poke_names = pokemons[\"Name\"].values\n",
    "dataset = PokemonDataset(image_dir=image_dir, poke_names=poke_names)"
   ]
  },
  {
   "cell_type": "code",
   "execution_count": 23,
   "id": "cef0e215",
   "metadata": {},
   "outputs": [
    {
     "data": {
      "text/plain": [
       "array(['charmander', 'charmeleon', 'charizard', 'pikachu', 'raichu',\n",
       "       'vulpix', 'ninetales', 'growlithe', 'arcanine', 'ponyta',\n",
       "       'rapidash', 'magnemite', 'magneton', 'voltorb', 'electrode',\n",
       "       'electabuzz', 'magmar', 'jolteon', 'flareon', 'zapdos', 'moltres',\n",
       "       'cyndaquil', 'quilava', 'typhlosion', 'pichu', 'mareep', 'flaaffy',\n",
       "       'ampharos', 'umbreon', 'murkrow', 'sneasel', 'slugma', 'magcargo',\n",
       "       'houndour', 'houndoom', 'elekid', 'magby', 'raikou', 'entei',\n",
       "       'ho-oh', 'torchic', 'combusken', 'blaziken', 'poochyena',\n",
       "       'mightyena', 'sableye', 'electrike', 'manectric', 'plusle',\n",
       "       'minun', 'numel', 'camerupt', 'torkoal', 'absol', 'chimchar',\n",
       "       'monferno', 'infernape', 'shinx', 'luxio', 'luxray', 'pachirisu',\n",
       "       'honchkrow', 'weavile', 'magnezone', 'electivire', 'magmortar',\n",
       "       'rotom', 'heatran', 'darkrai', 'tepig', 'pignite', 'emboar',\n",
       "       'purrloin', 'liepard', 'pansear', 'simisear', 'blitzle',\n",
       "       'zebstrika', 'darumaka', 'darmanitan-standard', 'scraggy',\n",
       "       'scrafty', 'zorua', 'zoroark', 'emolga', 'tynamo', 'eelektrik',\n",
       "       'eelektross', 'pawniard', 'bisharp', 'vullaby', 'mandibuzz',\n",
       "       'heatmor', 'deino', 'zweilous', 'hydreigon', 'thundurus-incarnate',\n",
       "       'fennekin', 'braixen', 'delphox', 'fletchinder', 'talonflame',\n",
       "       'litleo', 'pyroar', 'inkay', 'malamar', 'helioptile', 'heliolisk',\n",
       "       'dedenne', 'yveltal', 'volcanion', 'litten', 'torracat',\n",
       "       'incineroar', 'oricorio-baile', 'turtonator', 'togedemaru',\n",
       "       'tapu-koko', 'xurkitree', 'guzzlord', 'blacephalon', 'zeraora'],\n",
       "      dtype=object)"
      ]
     },
     "execution_count": 23,
     "metadata": {},
     "output_type": "execute_result"
    }
   ],
   "source": [
    "poke_names\n",
    "# for root, dirs, files in os.walk(image_dir):\n",
    "#     print(root, dirs, files)"
   ]
  },
  {
   "cell_type": "code",
   "execution_count": 24,
   "id": "168740fa",
   "metadata": {},
   "outputs": [
    {
     "data": {
      "text/plain": [
       "122"
      ]
     },
     "execution_count": 24,
     "metadata": {},
     "output_type": "execute_result"
    }
   ],
   "source": [
    "len(dataset)"
   ]
  },
  {
   "cell_type": "code",
   "execution_count": 25,
   "id": "05044fee",
   "metadata": {},
   "outputs": [
    {
     "name": "stdout",
     "output_type": "stream",
     "text": [
      "torch.Size([3, 120, 120])\n"
     ]
    },
    {
     "data": {
      "image/png": "[encoded data removed]",
      "text/plain": [
       "<Figure size 500x500 with 1 Axes>"
      ]
     },
     "metadata": {},
     "output_type": "display_data"
    }
   ],
   "source": [
    "import random\n",
    "\n",
    "x, name = dataset[random.randrange(0, len(dataset))]\n",
    "\n",
    "print(x.shape)\n",
    "\n",
    "plt.figure(figsize=(5, 5))\n",
    "plt.imshow(torch.reshape(x, (120, 120, 3)))\n",
    "plt.title(name)\n",
    "plt.show()"
   ]
  },
  {
   "cell_type": "code",
   "execution_count": 26,
   "id": "79f681c7",
   "metadata": {},
   "outputs": [],
   "source": [
    "transform = transforms.Compose([\n",
    "    RandomHorizontalFlip(p=0.5),\n",
    "#     RandomRotation(degrees=90),\n",
    "#     RandomCrop(size=224),\n",
    "#     ColorJitter(brightness=0.1, contrast=0.1, saturation=0.1, hue=0.1),\n",
    "    GaussianBlur(kernel_size=3)\n",
    "])\n",
    "\n",
    "augmented_samples = []\n",
    "num_augmentations = 5\n",
    "\n",
    "for image, label in dataset:\n",
    "    for _ in range(num_augmentations):\n",
    "        augmented_sample = transform(image)\n",
    "        augmented_samples.append((augmented_sample, label))"
   ]
  },
  {
   "cell_type": "code",
   "execution_count": 27,
   "id": "ba427997",
   "metadata": {},
   "outputs": [
    {
     "data": {
      "image/png": "[encoded data removed]",
      "text/plain": [
       "<Figure size 500x500 with 1 Axes>"
      ]
     },
     "metadata": {},
     "output_type": "display_data"
    }
   ],
   "source": [
    "x, name = augmented_samples[random.randrange(0, len(augmented_samples))]\n",
    "\n",
    "plt.figure(figsize=(5, 5))\n",
    "plt.imshow(torch.reshape(x, (120, 120, 3)))\n",
    "plt.title(name)\n",
    "plt.show()"
   ]
  },
  {
   "cell_type": "code",
   "execution_count": 28,
   "id": "36d76f1d",
   "metadata": {},
   "outputs": [
    {
     "data": {
      "text/plain": [
       "([24, 42, 105, 93, 36], [18, 45, 47, 89, 4])"
      ]
     },
     "execution_count": 28,
     "metadata": {},
     "output_type": "execute_result"
    }
   ],
   "source": [
    "test_split = .2\n",
    "shuffle_dataset = True\n",
    "\n",
    "# dataset_size = len(combined_dataset)\n",
    "dataset_size = len(dataset)\n",
    "indices = list(range(dataset_size))\n",
    "split = int(np.floor(test_split * dataset_size))\n",
    "\n",
    "if shuffle_dataset:\n",
    "    np.random.seed(42)\n",
    "    np.random.shuffle(indices)\n",
    "    \n",
    "train_indices, test_indices = indices[split:], indices[:split]\n",
    "\n",
    "train_indices[:5], test_indices[:5]"
   ]
  },
  {
   "cell_type": "code",
   "execution_count": 29,
   "id": "15035ad3",
   "metadata": {},
   "outputs": [],
   "source": [
    "train_sampler = SubsetRandomSampler(train_indices)\n",
    "test_sampler = SubsetRandomSampler(test_indices)\n",
    "\n",
    "batch_size = 16\n",
    "\n",
    "train_dataloader = DataLoader(dataset, batch_size=batch_size, sampler=train_sampler, drop_last=True)\n",
    "test_dataloader = DataLoader(dataset, batch_size=batch_size, sampler=test_sampler, drop_last=True)"
   ]
  },
  {
   "cell_type": "code",
   "execution_count": 30,
   "id": "ff9e5696",
   "metadata": {},
   "outputs": [
    {
     "name": "stdout",
     "output_type": "stream",
     "text": [
      "tensor([0, 1, 0, 0, 2, 1, 0, 0, 1, 1, 0, 1, 1, 1, 1, 0])\n",
      "tensor([2, 2, 0, 0, 0, 2, 0, 1, 0, 1, 0, 2, 2, 2, 0, 0])\n",
      "tensor([0, 0, 1, 1, 0, 1, 0, 1, 0, 0, 1, 0, 0, 2, 0, 1])\n",
      "tensor([0, 2, 0, 1, 1, 0, 1, 0, 2, 1, 2, 0, 0, 2, 0, 0])\n",
      "tensor([0, 1, 1, 1, 1, 1, 1, 0, 2, 2, 0, 0, 1, 0, 1, 2])\n",
      "tensor([1, 0, 1, 0, 0, 1, 1, 2, 2, 0, 1, 0, 1, 2, 2, 2])\n"
     ]
    }
   ],
   "source": [
    "# вивести значення класів в батчах\n",
    "for i, (img, t) in enumerate(train_dataloader):\n",
    "    print(t)"
   ]
  },
  {
   "cell_type": "code",
   "execution_count": 31,
   "id": "1ccd9e73",
   "metadata": {},
   "outputs": [],
   "source": [
    "class NeuralNetwork(torch.nn.Module):\n",
    "    def __init__(self):\n",
    "        super(NeuralNetwork, self).__init__()\n",
    "        # Convolutional layers\n",
    "        self.conv1 = torch.nn.Conv2d(3, 32, kernel_size=3, padding=1)\n",
    "        self.conv2 = torch.nn.Conv2d(32, 64, kernel_size=3, padding=1)\n",
    "        self.conv3 = torch.nn.Conv2d(64, 128, kernel_size=3, padding=1)\n",
    "        \n",
    "        # Max-pooling layers\n",
    "        self.pool = torch.nn.MaxPool2d(kernel_size=2, stride=2)\n",
    "        \n",
    "        # Fully connected layers\n",
    "        self.fc1 = torch.nn.Linear(128 * 15 * 15, 256)\n",
    "        self.fc2 = torch.nn.Linear(256, 3)  # 3 output classes\n",
    "        \n",
    "    def forward(self, x):\n",
    "        # Convolutional layer 1\n",
    "        x = F.relu(self.conv1(x))\n",
    "        x = self.pool(x)\n",
    "        \n",
    "        # Convolutional layer 2\n",
    "        x = F.relu(self.conv2(x))\n",
    "        x = self.pool(x)\n",
    "        \n",
    "        # Convolutional layer 3\n",
    "        x = F.relu(self.conv3(x))\n",
    "        x = self.pool(x)\n",
    "        \n",
    "        # Flatten the tensor for fully connected layers\n",
    "        x = x.view(-1, 128 * 15 * 15)\n",
    "        \n",
    "        # Fully connected layers\n",
    "        x = F.relu(self.fc1(x))\n",
    "        x = self.fc2(x)\n",
    "        \n",
    "        return x"
   ]
  },
  {
   "cell_type": "code",
   "execution_count": 32,
   "id": "3cdb19f8",
   "metadata": {},
   "outputs": [
    {
     "name": "stdout",
     "output_type": "stream",
     "text": [
      "Using device cpu\n"
     ]
    }
   ],
   "source": [
    "device = (\n",
    "    \"cuda\"\n",
    "    if torch.cuda.is_available()\n",
    "    else \"mps\"\n",
    "    if torch.backends.mps.is_available()\n",
    "    else \"cpu\"\n",
    ")\n",
    "print(f\"Using device {device}\")"
   ]
  },
  {
   "cell_type": "code",
   "execution_count": 33,
   "id": "b78acd16",
   "metadata": {
    "scrolled": false
   },
   "outputs": [
    {
     "name": "stdout",
     "output_type": "stream",
     "text": [
      "tensor([1, 2, 0, 0, 1, 1, 1, 0, 0, 0, 1, 1, 1, 1, 0, 2])\n",
      "tensor([2, 1, 0, 1, 1, 0, 0, 0, 1, 2, 0, 1, 2, 1, 1, 2])\n",
      "tensor([0, 1, 1, 0, 0, 1, 0, 0, 1, 1, 0, 0, 0, 2, 1, 2])\n",
      "tensor([0, 1, 2, 1, 2, 0, 0, 0, 1, 0, 2, 2, 0, 0, 2, 2])\n",
      "tensor([1, 0, 1, 0, 0, 0, 0, 2, 2, 0, 0, 2, 1, 0, 0, 1])\n",
      "tensor([1, 2, 0, 1, 1, 1, 0, 0, 0, 0, 0, 0, 0, 1, 0, 2])\n",
      "model device: cpu\n",
      "input device: cpu\n"
     ]
    }
   ],
   "source": [
    "for images, labels in train_dataloader:\n",
    "    print(labels)\n",
    "\n",
    "model_device = next(model.parameters()).device\n",
    "input_device = images.device\n",
    "print(f\"model device: {model_device}\")\n",
    "print(f\"input device: {input_device}\")"
   ]
  },
  {
   "cell_type": "code",
   "execution_count": 34,
   "id": "0a98f320",
   "metadata": {},
   "outputs": [],
   "source": [
    "def cnn_model_train(model, lr, num_epochs):\n",
    "    criterion = torch.nn.CrossEntropyLoss()\n",
    "    optimizer = torch.optim.Adam(model.parameters(), lr=lr)\n",
    "    train_losses, val_losses, epochs, accuracies = [], [], [], []\n",
    "\n",
    "    for epoch in range(num_epochs):\n",
    "        # Training\n",
    "        model.train()\n",
    "        train_loss = 0.0\n",
    "        for i, (images, labels) in enumerate(train_dataloader):\n",
    "            images = images.to(device)\n",
    "\n",
    "            # Zero the gradients\n",
    "            optimizer.zero_grad()\n",
    "\n",
    "            # Forward pass\n",
    "            outputs = model(images)\n",
    "\n",
    "            # Compute the loss\n",
    "            loss = criterion(outputs, labels.to(device))\n",
    "\n",
    "            # Backpropagation and optimization\n",
    "            loss.backward()\n",
    "            optimizer.step()\n",
    "\n",
    "            # Update the training loss\n",
    "            train_loss += loss.item() * images.size(0)\n",
    "            \n",
    "        print(f'epoch[{epoch+1}/{num_epochs}]\\nloss: {train_loss}')\n",
    "        print('-' * 30)\n",
    "\n",
    "        # Compute the average training loss for this epoch\n",
    "        train_loss = train_loss / len(train_dataloader.dataset)\n",
    "    return model"
   ]
  },
  {
   "cell_type": "code",
   "execution_count": 35,
   "id": "e7c9e5a5",
   "metadata": {},
   "outputs": [
    {
     "name": "stdout",
     "output_type": "stream",
     "text": [
      "Sequential(\n",
      "  (0): Linear(in_features=11, out_features=32, bias=True)\n",
      "  (1): ReLU()\n",
      "  (2): Linear(in_features=32, out_features=16, bias=True)\n",
      "  (3): ReLU()\n",
      "  (4): Linear(in_features=16, out_features=1, bias=True)\n",
      ")\n",
      "epoch[1/10]\n",
      "loss: 122.48794937133789\n",
      "------------------------------\n",
      "epoch[2/10]\n",
      "loss: 103.68481636047363\n",
      "------------------------------\n",
      "epoch[3/10]\n",
      "loss: 98.98950958251953\n",
      "------------------------------\n",
      "epoch[4/10]\n",
      "loss: 97.59210968017578\n",
      "------------------------------\n",
      "epoch[5/10]\n",
      "loss: 97.90419101715088\n",
      "------------------------------\n",
      "epoch[6/10]\n",
      "loss: 94.34443950653076\n",
      "------------------------------\n",
      "epoch[7/10]\n",
      "loss: 91.05142974853516\n",
      "------------------------------\n",
      "epoch[8/10]\n",
      "loss: 87.47381973266602\n",
      "------------------------------\n",
      "epoch[9/10]\n",
      "loss: 77.13828372955322\n",
      "------------------------------\n",
      "epoch[10/10]\n",
      "loss: 67.52362966537476\n",
      "------------------------------\n"
     ]
    },
    {
     "data": {
      "text/plain": [
       "NeuralNetwork(\n",
       "  (conv1): Conv2d(3, 32, kernel_size=(3, 3), stride=(1, 1), padding=(1, 1))\n",
       "  (conv2): Conv2d(32, 64, kernel_size=(3, 3), stride=(1, 1), padding=(1, 1))\n",
       "  (conv3): Conv2d(64, 128, kernel_size=(3, 3), stride=(1, 1), padding=(1, 1))\n",
       "  (pool): MaxPool2d(kernel_size=2, stride=2, padding=0, dilation=1, ceil_mode=False)\n",
       "  (fc1): Linear(in_features=28800, out_features=256, bias=True)\n",
       "  (fc2): Linear(in_features=256, out_features=3, bias=True)\n",
       ")"
      ]
     },
     "execution_count": 35,
     "metadata": {},
     "output_type": "execute_result"
    }
   ],
   "source": [
    "cnn_model = NeuralNetwork().to(device)\n",
    "print(model)\n",
    "\n",
    "lr = 1e-3\n",
    "num_epochs = 10\n",
    "cnn_model_train(cnn_model, lr, num_epochs)"
   ]
  },
  {
   "cell_type": "code",
   "execution_count": 36,
   "id": "a20fd36d",
   "metadata": {
    "scrolled": true
   },
   "outputs": [
    {
     "name": "stdout",
     "output_type": "stream",
     "text": [
      "              precision    recall  f1-score   support\n",
      "\n",
      "        Fire       0.40      0.33      0.36         6\n",
      "    Electric       0.00      0.00      0.00         3\n",
      "        Dark       0.55      0.86      0.67         7\n",
      "\n",
      "    accuracy                           0.50        16\n",
      "   macro avg       0.32      0.40      0.34        16\n",
      "weighted avg       0.39      0.50      0.43        16\n",
      "\n"
     ]
    },
    {
     "name": "stderr",
     "output_type": "stream",
     "text": [
      "D:\\Programs\\Miniconda3\\envs\\dl_env\\lib\\site-packages\\sklearn\\metrics\\_classification.py:1327: UndefinedMetricWarning: Precision and F-score are ill-defined and being set to 0.0 in labels with no predicted samples. Use `zero_division` parameter to control this behavior.\n",
      "  _warn_prf(average, modifier, msg_start, len(result))\n",
      "D:\\Programs\\Miniconda3\\envs\\dl_env\\lib\\site-packages\\sklearn\\metrics\\_classification.py:1327: UndefinedMetricWarning: Precision and F-score are ill-defined and being set to 0.0 in labels with no predicted samples. Use `zero_division` parameter to control this behavior.\n",
      "  _warn_prf(average, modifier, msg_start, len(result))\n",
      "D:\\Programs\\Miniconda3\\envs\\dl_env\\lib\\site-packages\\sklearn\\metrics\\_classification.py:1327: UndefinedMetricWarning: Precision and F-score are ill-defined and being set to 0.0 in labels with no predicted samples. Use `zero_division` parameter to control this behavior.\n",
      "  _warn_prf(average, modifier, msg_start, len(result))\n"
     ]
    }
   ],
   "source": [
    "# Validation\n",
    "cnn_model.eval()\n",
    "val_loss = 0.0\n",
    "correct = 0\n",
    "total = 0\n",
    "pokemon_true_labels = []\n",
    "pokemon_predicted_labels = []\n",
    "with torch.no_grad():\n",
    "    for j, (images, labels) in enumerate(test_dataloader):            \n",
    "        labels = labels.to(device)\n",
    "        images = images.to(device)\n",
    "\n",
    "        outputs = cnn_model(images)\n",
    "        \n",
    "        # Calculate accuracy\n",
    "        _, predicted = torch.max(outputs, 1)\n",
    "        pokemon_true_labels.extend(labels.tolist())\n",
    "        pokemon_predicted_labels.extend(predicted.tolist())\n",
    "\n",
    "# pokemon_predicted_labels, pokemon_true_labels\n",
    "print(classification_report(pokemon_true_labels, pokemon_predicted_labels, target_names=['Fire', 'Electric', 'Dark']))\n",
    "# Training complete"
   ]
  },
  {
   "cell_type": "markdown",
   "id": "77d60a4e",
   "metadata": {},
   "source": [
    "# Завдання 3 (класифікація тексту, RNN)"
   ]
  },
  {
   "cell_type": "code",
   "execution_count": 37,
   "id": "d4b145db",
   "metadata": {},
   "outputs": [
    {
     "data": {
      "text/html": [
       "<div>\n",
       "<style scoped>\n",
       "    .dataframe tbody tr th:only-of-type {\n",
       "        vertical-align: middle;\n",
       "    }\n",
       "\n",
       "    .dataframe tbody tr th {\n",
       "        vertical-align: top;\n",
       "    }\n",
       "\n",
       "    .dataframe thead th {\n",
       "        text-align: right;\n",
       "    }\n",
       "</style>\n",
       "<table border=\"1\" class=\"dataframe\">\n",
       "  <thead>\n",
       "    <tr style=\"text-align: right;\">\n",
       "      <th></th>\n",
       "      <th>v1</th>\n",
       "      <th>v2</th>\n",
       "    </tr>\n",
       "  </thead>\n",
       "  <tbody>\n",
       "    <tr>\n",
       "      <th>0</th>\n",
       "      <td>0</td>\n",
       "      <td>[go, jurong, point, crazy, available, bugis, n...</td>\n",
       "    </tr>\n",
       "    <tr>\n",
       "      <th>1</th>\n",
       "      <td>0</td>\n",
       "      <td>[ok, lar, joking, wif, u, oni]</td>\n",
       "    </tr>\n",
       "    <tr>\n",
       "      <th>2</th>\n",
       "      <td>1</td>\n",
       "      <td>[free, entry, 2, wkly, comp, win, fa, cup, fin...</td>\n",
       "    </tr>\n",
       "    <tr>\n",
       "      <th>3</th>\n",
       "      <td>0</td>\n",
       "      <td>[u, dun, say, early, hor, u, c, already, say]</td>\n",
       "    </tr>\n",
       "    <tr>\n",
       "      <th>4</th>\n",
       "      <td>0</td>\n",
       "      <td>[nah, think, goes, usf, lives, around, though]</td>\n",
       "    </tr>\n",
       "  </tbody>\n",
       "</table>\n",
       "</div>"
      ],
      "text/plain": [
       "   v1                                                 v2\n",
       "0   0  [go, jurong, point, crazy, available, bugis, n...\n",
       "1   0                     [ok, lar, joking, wif, u, oni]\n",
       "2   1  [free, entry, 2, wkly, comp, win, fa, cup, fin...\n",
       "3   0      [u, dun, say, early, hor, u, c, already, say]\n",
       "4   0     [nah, think, goes, usf, lives, around, though]"
      ]
     },
     "execution_count": 37,
     "metadata": {},
     "output_type": "execute_result"
    }
   ],
   "source": [
    "text_filename = 'spam.csv'\n",
    "\n",
    "encodings = ['utf-8', 'ISO-8859-1', 'latin1']\n",
    "\n",
    "for encoding in encodings:\n",
    "    try:\n",
    "        text_dataset = pd.read_csv(text_filename, encoding=encoding)[['v1','v2']]\n",
    "        break  # Stop trying encodings if successful\n",
    "    except UnicodeDecodeError:\n",
    "        continue\n",
    "\n",
    "text_dataset['v2'] = text_dataset['v2'].map(lambda x: x.lower())\n",
    "\n",
    "\n",
    "# 1. Tokenization\n",
    "text_dataset['v2'] = text_dataset['v2'].apply(lambda x: x.split())\n",
    "\n",
    "# 2. Removal of Punctuation\n",
    "text_dataset['v2'] = text_dataset['v2'].apply(\n",
    "    lambda tokens: [word.strip(string.punctuation) for word in tokens]\n",
    ")\n",
    "\n",
    "# 3. Stop Word Removal\n",
    "stop_words = set(stopwords.words('english'))\n",
    "text_dataset['v2'] = text_dataset['v2'].apply(\n",
    "    lambda tokens: [word for word in tokens if word.lower() not in stop_words]\n",
    ")\n",
    "\n",
    "text_dataset['v1'] = text_dataset['v1'].map({'ham': 0, 'spam': 1})\n",
    "\n",
    "text_dataset.head()"
   ]
  },
  {
   "cell_type": "code",
   "execution_count": 38,
   "id": "035fb71d",
   "metadata": {
    "scrolled": true
   },
   "outputs": [
    {
     "data": {
      "text/plain": [
       "(tensor([[0.0000, 0.0000, 0.0000,  ..., 0.0000, 0.0000, 0.0000],\n",
       "         [0.2559, 0.0000, 0.0000,  ..., 0.0000, 0.0000, 0.0000],\n",
       "         [0.0000, 0.0000, 0.0000,  ..., 0.0000, 0.0000, 0.0000],\n",
       "         ...,\n",
       "         [0.0000, 0.0000, 0.0000,  ..., 0.0000, 0.0000, 0.0000],\n",
       "         [0.0000, 0.0000, 0.0000,  ..., 0.0000, 0.0000, 0.0000],\n",
       "         [0.0000, 0.0000, 0.0000,  ..., 0.0000, 0.0000, 0.0000]]),\n",
       " tensor([0, 1, 0,  ..., 0, 0, 0]))"
      ]
     },
     "execution_count": 38,
     "metadata": {},
     "output_type": "execute_result"
    }
   ],
   "source": [
    "tfidf_vectorizer = TfidfVectorizer()\n",
    "X = tfidf_vectorizer.fit_transform(text_dataset['v2'].apply(' '.join))\n",
    "y = text_dataset['v1']\n",
    "\n",
    "train_text_tfidf, test_text_tfidf, y_train, y_test = train_test_split(X, y, test_size=0.2, random_state=42)\n",
    "\n",
    "# Convert TF-IDF vectors to PyTorch tensors\n",
    "# train_text_tfidf = torch.from_numpy(train_text_tfidf.toarray()).float()\n",
    "# test_text_tfidf = torch.from_numpy(test_text_tfidf.toarray()).float()\n",
    "# y_train = torch.from_numpy(y_train.values).int()\n",
    "# y_test = torch.from_numpy(y_test.values).int()\n",
    "\n",
    "train_text_tfidf = torch.tensor(scipy.sparse.csr_matrix.todense(train_text_tfidf)).float()\n",
    "test_text_tfidf = torch.tensor(scipy.sparse.csr_matrix.todense(test_text_tfidf)).float()\n",
    "y_train = torch.tensor(y_train.values)\n",
    "y_test = torch.tensor(y_test.values)\n",
    "\n",
    "train_text_tfidf, y_train"
   ]
  },
  {
   "cell_type": "code",
   "execution_count": 39,
   "id": "ea1d0e85",
   "metadata": {},
   "outputs": [
    {
     "data": {
      "text/plain": [
       "(torch.Size([4457, 8624]), torch.Size([1115, 8624]))"
      ]
     },
     "execution_count": 39,
     "metadata": {},
     "output_type": "execute_result"
    }
   ],
   "source": [
    "train_text_tfidf.shape, test_text_tfidf.shape"
   ]
  },
  {
   "cell_type": "code",
   "execution_count": 40,
   "id": "4b19c5d1",
   "metadata": {},
   "outputs": [
    {
     "data": {
      "text/plain": [
       "(torch.Size([4457, 8624]), torch.Size([4457]))"
      ]
     },
     "execution_count": 40,
     "metadata": {},
     "output_type": "execute_result"
    }
   ],
   "source": [
    "train_text_tfidf.shape, y_train.shape"
   ]
  },
  {
   "cell_type": "code",
   "execution_count": 41,
   "id": "bef24385",
   "metadata": {},
   "outputs": [],
   "source": [
    "class SelectState(nn.Module):\n",
    "    def __init__(self, item_index):\n",
    "        super(SelectState, self).__init__()\n",
    "        self._name = 'selectstate'\n",
    "        self.item_index = item_index\n",
    "\n",
    "    def forward(self, inputs):\n",
    "        return inputs[self.item_index]"
   ]
  },
  {
   "cell_type": "code",
   "execution_count": 42,
   "id": "0950ec3a",
   "metadata": {},
   "outputs": [],
   "source": [
    "def create_rnn_model(input_size, rnn_hidden, rnn_layers, output_size):\n",
    "    layers = []\n",
    "    layers.append(nn.RNN(input_size, rnn_hidden, num_layers=rnn_layers, batch_first=True, nonlinearity='relu'))\n",
    "    layers.append(SelectState(0))  # Flatten the output\n",
    "    layers.append(nn.Linear(rnn_hidden, output_size))\n",
    "    model = nn.Sequential(*layers)\n",
    "    return model"
   ]
  },
  {
   "cell_type": "code",
   "execution_count": 43,
   "id": "66706399",
   "metadata": {},
   "outputs": [],
   "source": [
    "def train_rnn_model(model, train_iterator, lr, num_epochs):\n",
    "    optimizer = optim.Adam(model.parameters(), lr=lr)\n",
    "    criterion = nn.BCEWithLogitsLoss()\n",
    "    device = torch.device(\"cuda\" if torch.cuda.is_available() else \"cpu\")\n",
    "    model = model.to(device)\n",
    "\n",
    "    for epoch in range(num_epochs):\n",
    "        model.train()\n",
    "        total_loss = 0\n",
    "        total_correct = 0\n",
    "        for batch in train_iterator:\n",
    "            text, labels = batch\n",
    "            text = text.to(device)\n",
    "            labels = labels.type(torch.FloatTensor).to(device)\n",
    "\n",
    "            optimizer.zero_grad()\n",
    "            predictions = model(text).squeeze(1)\n",
    "            loss = criterion(predictions, labels)\n",
    "            loss.backward()\n",
    "            optimizer.step()\n",
    "\n",
    "            total_loss += loss.item()\n",
    "            total_correct += ((predictions > 0.5) == labels).sum().item()\n",
    "\n",
    "        epoch_loss = total_loss / len(train_iterator)\n",
    "        epoch_acc = total_correct / len(train_iterator)\n",
    "        print(f'Epoch: {epoch+1:02}')\n",
    "        print(f'\\tTrain Loss: {epoch_loss:.3f}')\n",
    "\n",
    "    return model"
   ]
  },
  {
   "cell_type": "code",
   "execution_count": 44,
   "id": "54f3f167",
   "metadata": {},
   "outputs": [],
   "source": [
    "train_data = torch.utils.data.TensorDataset(train_text_tfidf, y_train)\n",
    "test_data = torch.utils.data.TensorDataset(test_text_tfidf, y_test)\n",
    "train_iterator = torch.utils.data.DataLoader(train_data, batch_size=64)\n",
    "test_iterator = torch.utils.data.DataLoader(test_data, batch_size=64)"
   ]
  },
  {
   "cell_type": "code",
   "execution_count": 45,
   "id": "c90e38c8",
   "metadata": {},
   "outputs": [],
   "source": [
    "input_size = train_text_tfidf.shape[1]\n",
    "rnn_hidden = 64\n",
    "rnn_layers = 3\n",
    "output_size = 1\n",
    "\n",
    "# rnn_model = create_rnn_model(input_size, rnn_hidden, rnn_layers, output_size)\n",
    "# rnn_model\n",
    "# rnn_model(train_text_tfidf[0:64]).shape"
   ]
  },
  {
   "cell_type": "code",
   "execution_count": 46,
   "id": "19a3c0f0",
   "metadata": {},
   "outputs": [
    {
     "name": "stdout",
     "output_type": "stream",
     "text": [
      "Epoch: 01\n",
      "\tTrain Loss: 0.436\n",
      "Epoch: 02\n",
      "\tTrain Loss: 0.320\n",
      "Epoch: 03\n",
      "\tTrain Loss: 0.068\n",
      "Epoch: 04\n",
      "\tTrain Loss: 0.013\n",
      "Epoch: 05\n",
      "\tTrain Loss: 0.003\n",
      "Epoch: 06\n",
      "\tTrain Loss: 0.002\n",
      "Epoch: 07\n",
      "\tTrain Loss: 0.001\n",
      "Epoch: 08\n",
      "\tTrain Loss: 0.001\n",
      "Epoch: 09\n",
      "\tTrain Loss: 0.001\n",
      "Epoch: 10\n",
      "\tTrain Loss: 0.001\n"
     ]
    }
   ],
   "source": [
    "lr = 1e-3\n",
    "num_epochs = 10\n",
    "\n",
    "rnn_model = create_rnn_model(input_size, rnn_hidden, rnn_layers, output_size)\n",
    "model = train_rnn_model(rnn_model, train_iterator, lr, num_epochs)"
   ]
  },
  {
   "cell_type": "code",
   "execution_count": 47,
   "id": "7d60de68",
   "metadata": {},
   "outputs": [
    {
     "name": "stdout",
     "output_type": "stream",
     "text": [
      "Accuracy: 96.86%\n",
      "              precision    recall  f1-score   support\n",
      "\n",
      "     Class 0       0.97      1.00      0.98       965\n",
      "     Class 1       0.97      0.79      0.87       150\n",
      "\n",
      "    accuracy                           0.97      1115\n",
      "   macro avg       0.97      0.89      0.93      1115\n",
      "weighted avg       0.97      0.97      0.97      1115\n",
      "\n"
     ]
    }
   ],
   "source": [
    "rnn_model.eval()\n",
    "\n",
    "# Lists to store true labels and predicted labels\n",
    "true_labels = []\n",
    "predicted_labels = []\n",
    "\n",
    "# Iterate over the test data\n",
    "with torch.no_grad():\n",
    "    for batch in test_iterator:\n",
    "#         print(batch)\n",
    "        text = batch[0]\n",
    "        labels = batch[1]\n",
    "\n",
    "        # Forward pass\n",
    "        predictions = rnn_model(text).squeeze(1)\n",
    "\n",
    "        # Round the predictions to 0 or 1\n",
    "        predicted = torch.round(torch.sigmoid(predictions))\n",
    "\n",
    "        true_labels.extend(labels.tolist())\n",
    "        predicted_labels.extend(predicted.tolist())\n",
    "\n",
    "# Calculate accuracy\n",
    "accuracy = accuracy_score(true_labels, predicted_labels)\n",
    "print(f'Accuracy: {accuracy:.2%}')\n",
    "\n",
    "# Generate a classification report\n",
    "report = classification_report(true_labels, predicted_labels, target_names=['Class 0', 'Class 1'])\n",
    "print(report)"
   ]
  },
  {
   "cell_type": "code",
   "execution_count": null,
   "id": "242e028b",
   "metadata": {},
   "outputs": [],
   "source": []
  }
 ],
 "metadata": {
  "kernelspec": {
   "display_name": "Python 3 (ipykernel)",
   "language": "python",
   "name": "python3"
  },
  "language_info": {
   "codemirror_mode": {
    "name": "ipython",
    "version": 3
   },
   "file_extension": ".py",
   "mimetype": "text/x-python",
   "name": "python",
   "nbconvert_exporter": "python",
   "pygments_lexer": "ipython3",
   "version": "3.10.8"
  }
 },
 "nbformat": 4,
 "nbformat_minor": 5
}
